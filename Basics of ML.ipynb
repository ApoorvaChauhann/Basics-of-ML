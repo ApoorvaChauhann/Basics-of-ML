{
  "nbformat": 4,
  "nbformat_minor": 0,
  "metadata": {
    "colab": {
      "provenance": []
    },
    "kernelspec": {
      "name": "python3",
      "display_name": "Python 3"
    },
    "language_info": {
      "name": "python"
    }
  },
  "cells": [
    {
      "cell_type": "markdown",
      "source": [
        "# ***Apply Bayes' Theorem to solve a medical diagnosis problem given conditional probabilities***"
      ],
      "metadata": {
        "id": "LMpw5gX-HEjw"
      }
    },
    {
      "cell_type": "markdown",
      "source": [
        "Let's assume a scenario where:\n",
        "\n",
        "𝑃\n",
        "(\n",
        "Disease\n",
        ")\n",
        "=\n",
        "0.01\n",
        "P(Disease)=0.01 (prior probability of having the disease)\n",
        "𝑃\n",
        "(\n",
        "Positive Test\n",
        "∣\n",
        "Disease\n",
        ")\n",
        "=\n",
        "0.99\n",
        "P(Positive Test∣Disease)=0.99 (probability of testing positive if you have the disease)\n",
        "𝑃\n",
        "(\n",
        "Positive Test\n",
        "∣\n",
        "No Disease\n",
        ")\n",
        "=\n",
        "0.05\n",
        "P(Positive Test∣No Disease)=0.05 (probability of testing positive if you do not have the disease)\n",
        "We want to find\n",
        "𝑃\n",
        "(\n",
        "Disease\n",
        "∣\n",
        "Positive Test\n",
        ")\n",
        "P(Disease∣Positive Test), the probability of having the disease given a positive test result.\n",
        "\n",
        "Bayes' Theorem:\n",
        "𝑃\n",
        "(\n",
        "Disease\n",
        "∣\n",
        "Positive Test\n",
        ")\n",
        "=\n",
        "𝑃\n",
        "(\n",
        "Positive Test\n",
        "∣\n",
        "Disease\n",
        ")\n",
        "⋅\n",
        "𝑃\n",
        "(\n",
        "Disease\n",
        ")\n",
        "𝑃\n",
        "(\n",
        "Positive Test\n",
        ")\n",
        "P(Disease∣Positive Test)=\n",
        "P(Positive Test)\n",
        "P(Positive Test∣Disease)⋅P(Disease)\n",
        "​\n",
        "\n",
        "\n",
        "Where:\n",
        "𝑃\n",
        "(\n",
        "Positive Test\n",
        ")\n",
        "=\n",
        "𝑃\n",
        "(\n",
        "Positive Test\n",
        "∣\n",
        "Disease\n",
        ")\n",
        "⋅\n",
        "𝑃\n",
        "(\n",
        "Disease\n",
        ")\n",
        "+\n",
        "𝑃\n",
        "(\n",
        "Positive Test\n",
        "∣\n",
        "No Disease\n",
        ")\n",
        "⋅\n",
        "𝑃\n",
        "(\n",
        "No Disease\n",
        ")\n",
        "P(Positive Test)=P(Positive Test∣Disease)⋅P(Disease)+P(Positive Test∣No Disease)⋅P(No Disease)"
      ],
      "metadata": {
        "id": "hlouQY0GG3CH"
      }
    },
    {
      "cell_type": "code",
      "execution_count": 1,
      "metadata": {
        "colab": {
          "base_uri": "https://localhost:8080/"
        },
        "id": "1_3Z1UKPFznv",
        "outputId": "a5ddfa64-c82d-4260-a62c-d3fd3061d36f"
      },
      "outputs": [
        {
          "output_type": "execute_result",
          "data": {
            "text/plain": [
              "0.16666666666666669"
            ]
          },
          "metadata": {},
          "execution_count": 1
        }
      ],
      "source": [
        "# Given probabilities\n",
        "P_disease = 0.01\n",
        "P_positive_given_disease = 0.99\n",
        "P_positive_given_no_disease = 0.05\n",
        "\n",
        "# Calculating P(Positive Test)\n",
        "P_no_disease = 1 - P_disease\n",
        "P_positive = (P_positive_given_disease * P_disease) + (P_positive_given_no_disease * P_no_disease)\n",
        "\n",
        "# Applying Bayes' Theorem\n",
        "P_disease_given_positive = (P_positive_given_disease * P_disease) / P_positive\n",
        "\n",
        "P_disease_given_positive\n"
      ]
    },
    {
      "cell_type": "markdown",
      "source": [
        "Let's consider a 2x2 matrix\n",
        "𝐴\n",
        "A:\n",
        "𝐴\n",
        "=\n",
        "(\n",
        "4\n",
        "1\n",
        "2\n",
        "3\n",
        ")\n",
        "A=(\n",
        "4\n",
        "2\n",
        "​\n",
        "  \n",
        "1\n",
        "3\n",
        "​\n",
        " )"
      ],
      "metadata": {
        "id": "92ymkMImGTcY"
      }
    },
    {
      "cell_type": "code",
      "source": [
        "import numpy as np\n",
        "\n",
        "# Define the matrix\n",
        "A = np.array([[4, 1], [2, 3]])\n",
        "\n",
        "# Calculate eigenvalues and eigenvectors\n",
        "eigenvalues, eigenvectors = np.linalg.eig(A)\n",
        "\n",
        "eigenvalues, eigenvectors\n"
      ],
      "metadata": {
        "colab": {
          "base_uri": "https://localhost:8080/"
        },
        "id": "jN56AgZjGBRD",
        "outputId": "eb79ce7d-d83b-4e72-abeb-5c9e0c3dda42"
      },
      "execution_count": 2,
      "outputs": [
        {
          "output_type": "execute_result",
          "data": {
            "text/plain": [
              "(array([5., 2.]),\n",
              " array([[ 0.70710678, -0.4472136 ],\n",
              "        [ 0.70710678,  0.89442719]]))"
            ]
          },
          "metadata": {},
          "execution_count": 2
        }
      ]
    },
    {
      "cell_type": "markdown",
      "source": [
        "Let's consider a 3x3 matrix\n",
        "𝐵\n",
        "B:\n",
        "𝐵\n",
        "=\n",
        "(\n",
        "2\n",
        "−\n",
        "1\n",
        "0\n",
        "−\n",
        "1\n",
        "2\n",
        "−\n",
        "1\n",
        "0\n",
        "−\n",
        "1\n",
        "2\n",
        ")\n",
        "B=\n",
        "​\n",
        "  \n",
        "2\n",
        "−1\n",
        "0\n",
        "​\n",
        "  \n",
        "−1\n",
        "2\n",
        "−1\n",
        "​\n",
        "  \n",
        "0\n",
        "−1\n",
        "2\n",
        "​\n",
        "  \n",
        "​\n"
      ],
      "metadata": {
        "id": "G-oPr_9-GaDQ"
      }
    },
    {
      "cell_type": "code",
      "source": [
        "# Define the matrix\n",
        "B = np.array([[2, -1, 0], [-1, 2, -1], [0, -1, 2]])\n",
        "\n",
        "# Calculate determinant\n",
        "determinant = np.linalg.det(B)\n",
        "\n",
        "# Calculate inverse if the determinant is non-zero\n",
        "if determinant != 0:\n",
        "    inverse = np.linalg.inv(B)\n",
        "else:\n",
        "    inverse = None\n",
        "\n",
        "determinant, inverse\n"
      ],
      "metadata": {
        "colab": {
          "base_uri": "https://localhost:8080/"
        },
        "id": "vMTcMDsfGD2o",
        "outputId": "81024ffe-2380-4a64-f642-8d6fef0f28f9"
      },
      "execution_count": 3,
      "outputs": [
        {
          "output_type": "execute_result",
          "data": {
            "text/plain": [
              "(4.0,\n",
              " array([[0.75, 0.5 , 0.25],\n",
              "        [0.5 , 1.  , 0.5 ],\n",
              "        [0.25, 0.5 , 0.75]]))"
            ]
          },
          "metadata": {},
          "execution_count": 3
        }
      ]
    },
    {
      "cell_type": "markdown",
      "source": [
        "Let's calculate probabilities using the normal distribution. Suppose\n",
        "𝜇\n",
        "=\n",
        "0\n",
        "μ=0 and\n",
        "𝜎\n",
        "=\n",
        "1\n",
        "σ=1 (standard normal distribution). We want to find the probability\n",
        "𝑃\n",
        "(\n",
        "𝑋\n",
        "<\n",
        "1.96\n",
        ")\n",
        "P(X<1.96)."
      ],
      "metadata": {
        "id": "v7-yx-JxGmp8"
      }
    },
    {
      "cell_type": "code",
      "source": [
        "import scipy.stats as stats\n",
        "\n",
        "# Define the mean and standard deviation\n",
        "mu = 0\n",
        "sigma = 1\n",
        "\n",
        "# Calculate the cumulative distribution function (CDF) for P(X < 1.96)\n",
        "prob = stats.norm.cdf(1.96, mu, sigma)\n",
        "\n",
        "prob\n"
      ],
      "metadata": {
        "colab": {
          "base_uri": "https://localhost:8080/"
        },
        "id": "4bcCRdptGKqi",
        "outputId": "de420109-26be-4938-b979-ca8e987ab3a7"
      },
      "execution_count": 4,
      "outputs": [
        {
          "output_type": "execute_result",
          "data": {
            "text/plain": [
              "0.9750021048517795"
            ]
          },
          "metadata": {},
          "execution_count": 4
        }
      ]
    },
    {
      "cell_type": "markdown",
      "source": [],
      "metadata": {
        "id": "BHNKDC7SG11V"
      }
    }
  ]
}